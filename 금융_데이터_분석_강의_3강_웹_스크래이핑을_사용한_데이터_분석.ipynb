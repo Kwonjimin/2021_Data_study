{
  "nbformat": 4,
  "nbformat_minor": 0,
  "metadata": {
    "colab": {
      "name": "금융 데이터 분석 강의 3강. 웹 스크래이핑을 사용한 데이터 분석.ipynb",
      "provenance": [],
      "collapsed_sections": [],
      "authorship_tag": "ABX9TyMJV0RGohio9dC68ziW/Mzs",
      "include_colab_link": true
    },
    "kernelspec": {
      "name": "python3",
      "display_name": "Python 3"
    },
    "language_info": {
      "name": "python"
    }
  },
  "cells": [
    {
      "cell_type": "markdown",
      "metadata": {
        "id": "view-in-github",
        "colab_type": "text"
      },
      "source": [
        "<a href=\"https://colab.research.google.com/github/Kwonjimin/2021_Data_study/blob/main/%EA%B8%88%EC%9C%B5_%EB%8D%B0%EC%9D%B4%ED%84%B0_%EB%B6%84%EC%84%9D_%EA%B0%95%EC%9D%98_3%EA%B0%95_%EC%9B%B9_%EC%8A%A4%ED%81%AC%EB%9E%98%EC%9D%B4%ED%95%91%EC%9D%84_%EC%82%AC%EC%9A%A9%ED%95%9C_%EB%8D%B0%EC%9D%B4%ED%84%B0_%EB%B6%84%EC%84%9D.ipynb\" target=\"_parent\"><img src=\"https://colab.research.google.com/assets/colab-badge.svg\" alt=\"Open In Colab\"/></a>"
      ]
    },
    {
      "cell_type": "markdown",
      "metadata": {
        "id": "Qo9YaSoK6rsi"
      },
      "source": [
        "## 크롤링\n"
      ]
    },
    {
      "cell_type": "markdown",
      "metadata": {
        "id": "LYaNBjLS6uwZ"
      },
      "source": [
        "## HTML\n",
        "태크란 정보를 정의하는 형식을 말합니다.\n"
      ]
    },
    {
      "cell_type": "markdown",
      "metadata": {
        "id": "kAACXe027iDu"
      },
      "source": [
        "## BeautifulSoup"
      ]
    },
    {
      "cell_type": "code",
      "metadata": {
        "colab": {
          "base_uri": "https://localhost:8080/"
        },
        "id": "VfLwQ31I7lkj",
        "outputId": "f1261c0e-ec12-4f94-8a3f-295cf111176b"
      },
      "source": [
        "!pip install beautifulSoup4"
      ],
      "execution_count": 1,
      "outputs": [
        {
          "output_type": "stream",
          "text": [
            "Requirement already satisfied: beautifulSoup4 in /usr/local/lib/python3.7/dist-packages (4.6.3)\n"
          ],
          "name": "stdout"
        }
      ]
    },
    {
      "cell_type": "code",
      "metadata": {
        "id": "8XU79TZ78KSd"
      },
      "source": [
        "from bs4 import BeautifulSoup"
      ],
      "execution_count": 3,
      "outputs": []
    },
    {
      "cell_type": "code",
      "metadata": {
        "id": "HeWofdy09Ivd"
      },
      "source": [
        ""
      ],
      "execution_count": null,
      "outputs": []
    },
    {
      "cell_type": "markdown",
      "metadata": {
        "id": "-rQ5w5l99nDY"
      },
      "source": [
        "## 크롤링"
      ]
    },
    {
      "cell_type": "code",
      "metadata": {
        "id": "HfaNYu2k9o4Q"
      },
      "source": [
        "import pandas as pd\n",
        "from datetime import datetime \n",
        "from matplotlib import dates as mdates\n",
        "import matplotlib.pyplot as plt"
      ],
      "execution_count": 7,
      "outputs": []
    },
    {
      "cell_type": "code",
      "metadata": {
        "id": "IJN765Sk9yQs"
      },
      "source": [
        "import requests"
      ],
      "execution_count": 8,
      "outputs": []
    },
    {
      "cell_type": "code",
      "metadata": {
        "id": "vXdtO7k3-AOl"
      },
      "source": [
        "url='https://finance.naver.com/item/sise_day.nhn?code=068270&page=1'"
      ],
      "execution_count": 22,
      "outputs": []
    },
    {
      "cell_type": "code",
      "metadata": {
        "id": "U09TkZK_-Rvy"
      },
      "source": [
        "headers={'user-agent': 'Mozilla/5.0 (Windows NT 10.0; Win64; x64) AppleWebKit/537.36 (KHTML, like Gecko) Chrome/79.0.3945.130 Safari/537.36'} #https:hogni.tistory.com/64\n",
        "response=requests.get(url, headers=headers)"
      ],
      "execution_count": 23,
      "outputs": []
    },
    {
      "cell_type": "code",
      "metadata": {
        "colab": {
          "base_uri": "https://localhost:8080/",
          "height": 125
        },
        "id": "r52ckXJ8-rTX",
        "outputId": "7bee91b7-d070-4c94-f750-fe5d94416580"
      },
      "source": [
        "response.text"
      ],
      "execution_count": 24,
      "outputs": [
        {
          "output_type": "execute_result",
          "data": {
            "application/vnd.google.colaboratory.intrinsic+json": {
              "type": "string"
            },
            "text/plain": [
              "'\\n<html lang=\"ko\">\\n<head>\\n<meta http-equiv=\"Content-Type\" content=\"text/html; charset=euc-kr\">\\n<title>네이버 금융</title>\\n\\n<link rel=\"stylesheet\" type=\"text/css\" href=\"https://ssl.pstatic.net/imgstock/static.pc/20210803162128/css/newstock.css\">\\n<link rel=\"stylesheet\" type=\"text/css\" href=\"https://ssl.pstatic.net/imgstock/static.pc/20210803162128/css/common.css\">\\n<link rel=\"stylesheet\" type=\"text/css\" href=\"https://ssl.pstatic.net/imgstock/static.pc/20210803162128/css/layout.css\">\\n<link rel=\"stylesheet\" type=\"text/css\" href=\"https://ssl.pstatic.net/imgstock/static.pc/20210803162128/css/main.css\">\\n<link rel=\"stylesheet\" type=\"text/css\" href=\"https://ssl.pstatic.net/imgstock/static.pc/20210803162128/css/newstock2.css\">\\n<link rel=\"stylesheet\" type=\"text/css\" href=\"https://ssl.pstatic.net/imgstock/static.pc/20210803162128/css/newstock3.css\">\\n<link rel=\"stylesheet\" type=\"text/css\" href=\"https://ssl.pstatic.net/imgstock/static.pc/20210803162128/css/world.css\">\\n</head>\\n<body>\\n<script language=\"JavaScript\">\\nfunction mouseOver(obj){\\n  obj.style.backgroundColor=\"#f6f4e5\";\\n}\\nfunction mouseOut(obj){\\n  obj.style.backgroundColor=\"#ffffff\";\\n}\\n</script>\\n\\t\\t\\t\\t<h4 class=\"tlline2\"><strong><span class=\"red03\">일별</span>시세</strong></h4>\\t\\t\\t\\n\\t\\t\\t\\t<table cellspacing=\"0\" class=\"type2\">\\n\\t\\t\\t\\t<tr>\\n\\t\\t\\t\\t<th>날짜</th>\\n\\t\\t\\t\\t<th>종가</th>\\n\\t\\t\\t\\t<th>전일비</th>\\n\\t\\t\\t\\t<th>시가</th>\\n\\t\\t\\t\\t<th>고가</th>\\n\\t\\t\\t\\t<th>저가</th>\\n\\t\\t\\t\\t<th>거래량</th>\\n\\t\\t\\t\\t</tr>\\n\\t\\t\\t\\t<tr>\\n\\t\\t\\t\\t<td colspan=\"7\" height=\"8\"></td>\\n\\t\\t\\t\\t</tr>\\n\\n\\n\\t\\n\\t\\t\\t\\t<tr onMouseOver=\"mouseOver(this)\" onMouseOut=\"mouseOut(this)\">\\n\\t\\t\\t\\t<td align=\"center\"><span class=\"tah p10 gray03\">2021.08.09</span></td>\\n\\t\\t\\t\\t<td class=\"num\"><span class=\"tah p11\">266,000</span></td>\\n\\t\\t\\t\\t<td class=\"num\">\\n\\t\\t\\t\\t<img src=\"https://ssl.pstatic.net/imgstock/images/images4/ico_down.gif\" width=\"7\" height=\"6\" style=\"margin-right:4px;\" alt=\"하락\"><span class=\"tah p11 nv01\">\\n\\t\\t\\t\\t5,500\\n\\t\\t\\t\\t</span>\\n\\t\\t\\t</td>\\n\\t\\t\\t\\t<td class=\"num\"><span class=\"tah p11\">270,500</span></td>\\n\\t\\t\\t\\t<td class=\"num\"><span class=\"tah p11\">271,000</span></td>\\n\\t\\t\\t\\t<td class=\"num\"><span class=\"tah p11\">264,500</span></td>\\n\\t\\t\\t\\t<td class=\"num\"><span class=\"tah p11\">346,417</span></td>\\n\\t\\t\\t\\t</tr>\\n\\t\\t\\n\\t\\t\\t\\n\\t\\t\\t\\t\\n\\t\\t\\t\\t\\t<tr onMouseOver=\"mouseOver(this)\" onMouseOut=\"mouseOut(this)\">\\n\\t\\t\\t\\t\\t<td align=\"center\"><span class=\"tah p10 gray03\">2021.08.06</span></td>\\n\\t\\t\\t\\t\\t<td class=\"num\"><span class=\"tah p11\">271,500</span></td>\\n\\t\\t\\t\\t\\t<td class=\"num\">\\n\\t\\t\\t\\t<img src=\"https://ssl.pstatic.net/imgstock/images/images4/ico_up.gif\" width=\"7\" height=\"6\" style=\"margin-right:4px;\" alt=\"상승\"><span class=\"tah p11 red02\">\\n\\t\\t\\t\\t2,500\\n\\t\\t\\t\\t</span>\\n\\t\\t\\t</td>\\n\\t\\t\\t\\t\\t<td class=\"num\"><span class=\"tah p11\">271,000</span></td>\\n\\t\\t\\t\\t\\t<td class=\"num\"><span class=\"tah p11\">273,000</span></td>\\n\\t\\t\\t\\t\\t<td class=\"num\"><span class=\"tah p11\">267,500</span></td>\\n\\t\\t\\t\\t\\t<td class=\"num\"><span class=\"tah p11\">332,369</span></td>\\n\\t\\t\\t\\t\\t</tr>\\n\\t\\t\\t\\t\\n\\t\\t\\t\\t\\n\\t\\t\\t\\n\\t\\t\\t\\n\\t\\t\\t\\n\\t\\t\\t\\n\\t\\t\\t\\n\\t\\n\\t\\t\\n\\t\\t\\t\\n\\t\\t\\t\\t\\n\\t\\t\\t\\t\\t<tr onMouseOver=\"mouseOver(this)\" onMouseOut=\"mouseOut(this)\">\\n\\t\\t\\t\\t\\t<td align=\"center\"><span class=\"tah p10 gray03\">2021.08.05</span></td>\\n\\t\\t\\t\\t\\t<td class=\"num\"><span class=\"tah p11\">269,000</span></td>\\n\\t\\t\\t\\t\\t<td class=\"num\">\\n\\t\\t\\t\\t<img src=\"https://ssl.pstatic.net/imgstock/images/images4/ico_down.gif\" width=\"7\" height=\"6\" style=\"margin-right:4px;\" alt=\"하락\"><span class=\"tah p11 nv01\">\\n\\t\\t\\t\\t500\\n\\t\\t\\t\\t</span>\\n\\t\\t\\t</td>\\n\\t\\t\\t\\t\\t<td class=\"num\"><span class=\"tah p11\">270,000</span></td>\\n\\t\\t\\t\\t\\t<td class=\"num\"><span class=\"tah p11\">275,000</span></td>\\n\\t\\t\\t\\t\\t<td class=\"num\"><span class=\"tah p11\">268,500</span></td>\\n\\t\\t\\t\\t\\t<td class=\"num\"><span class=\"tah p11\">411,854</span></td>\\n\\t\\t\\t\\t\\t</tr>\\n\\t\\t\\t\\t\\n\\t\\t\\t\\t\\n\\t\\t\\t\\n\\t\\t\\t\\n\\t\\t\\t\\n\\t\\t\\t\\n\\t\\t\\t\\n\\t\\n\\t\\t\\n\\t\\t\\t\\n\\t\\t\\t\\t\\n\\t\\t\\t\\t\\t<tr onMouseOver=\"mouseOver(this)\" onMouseOut=\"mouseOut(this)\">\\n\\t\\t\\t\\t\\t<td align=\"center\"><span class=\"tah p10 gray03\">2021.08.04</span></td>\\n\\t\\t\\t\\t\\t<td class=\"num\"><span class=\"tah p11\">269,500</span></td>\\n\\t\\t\\t\\t\\t<td class=\"num\">\\n\\t\\t\\t\\t<img src=\"https://ssl.pstatic.net/imgstock/images/images4/ico_up.gif\" width=\"7\" height=\"6\" style=\"margin-right:4px;\" alt=\"상승\"><span class=\"tah p11 red02\">\\n\\t\\t\\t\\t4,500\\n\\t\\t\\t\\t</span>\\n\\t\\t\\t</td>\\n\\t\\t\\t\\t\\t<td class=\"num\"><span class=\"tah p11\">265,000</span></td>\\n\\t\\t\\t\\t\\t<td class=\"num\"><span class=\"tah p11\">272,500</span></td>\\n\\t\\t\\t\\t\\t<td class=\"num\"><span class=\"tah p11\">264,500</span></td>\\n\\t\\t\\t\\t\\t<td class=\"num\"><span class=\"tah p11\">497,787</span></td>\\n\\t\\t\\t\\t\\t</tr>\\n\\t\\t\\t\\t\\n\\t\\t\\t\\t\\n\\t\\t\\t\\n\\t\\t\\t\\n\\t\\t\\t\\n\\t\\t\\t\\n\\t\\t\\t\\n\\t\\n\\t\\t\\n\\t\\t\\t\\n\\t\\t\\t\\t\\n\\t\\t\\t\\t\\t<tr onMouseOver=\"mouseOver(this)\" onMouseOut=\"mouseOut(this)\">\\n\\t\\t\\t\\t\\t<td align=\"center\"><span class=\"tah p10 gray03\">2021.08.03</span></td>\\n\\t\\t\\t\\t\\t<td class=\"num\"><span class=\"tah p11\">265,000</span></td>\\n\\t\\t\\t\\t\\t<td class=\"num\">\\n\\t\\t\\t\\t<img src=\"https://ssl.pstatic.net/imgstock/images/images4/ico_up.gif\" width=\"7\" height=\"6\" style=\"margin-right:4px;\" alt=\"상승\"><span class=\"tah p11 red02\">\\n\\t\\t\\t\\t1,500\\n\\t\\t\\t\\t</span>\\n\\t\\t\\t</td>\\n\\t\\t\\t\\t\\t<td class=\"num\"><span class=\"tah p11\">263,500</span></td>\\n\\t\\t\\t\\t\\t<td class=\"num\"><span class=\"tah p11\">265,000</span></td>\\n\\t\\t\\t\\t\\t<td class=\"num\"><span class=\"tah p11\">260,500</span></td>\\n\\t\\t\\t\\t\\t<td class=\"num\"><span class=\"tah p11\">279,936</span></td>\\n\\t\\t\\t\\t\\t</tr>\\n\\t\\t\\t\\t\\n\\t\\t\\t\\t\\n\\t\\t\\t\\n\\t\\t\\t\\n\\t\\t\\t\\n\\t\\t\\t\\n\\t\\t\\t\\t<tr>\\n\\t\\t\\t\\t<td colspan=\"7\" height=\"8\"></td>\\n\\t\\t\\t\\t</tr>\\n\\t\\t\\t\\t<tr>\\n\\t\\t\\t\\t<td colspan=\"7\" height=\"1\" bgcolor=\"#e1e1e1\"></td>\\n\\t\\t\\t\\t</tr>\\n\\t\\t\\t\\t<tr>\\n\\t\\t\\t\\t<td colspan=\"7\" height=\"8\"></td>\\n\\t\\t\\t\\t</tr>\\n\\t\\t\\t\\n\\t\\t\\t\\n\\t\\n\\t\\t\\n\\t\\t\\t\\n\\t\\t\\t\\t\\n\\t\\t\\t\\t\\t<tr onMouseOver=\"mouseOver(this)\" onMouseOut=\"mouseOut(this)\">\\n\\t\\t\\t\\t\\t<td align=\"center\"><span class=\"tah p10 gray03\">2021.08.02</span></td>\\n\\t\\t\\t\\t\\t<td class=\"num\"><span class=\"tah p11\">263,500</span></td>\\n\\t\\t\\t\\t\\t<td class=\"num\">\\n\\t\\t\\t\\t<img src=\"https://ssl.pstatic.net/imgstock/images/images4/ico_up.gif\" width=\"7\" height=\"6\" style=\"margin-right:4px;\" alt=\"상승\"><span class=\"tah p11 red02\">\\n\\t\\t\\t\\t10,000\\n\\t\\t\\t\\t</span>\\n\\t\\t\\t</td>\\n\\t\\t\\t\\t\\t<td class=\"num\"><span class=\"tah p11\">255,500</span></td>\\n\\t\\t\\t\\t\\t<td class=\"num\"><span class=\"tah p11\">264,000</span></td>\\n\\t\\t\\t\\t\\t<td class=\"num\"><span class=\"tah p11\">255,500</span></td>\\n\\t\\t\\t\\t\\t<td class=\"num\"><span class=\"tah p11\">459,181</span></td>\\n\\t\\t\\t\\t\\t</tr>\\n\\t\\t\\t\\t\\n\\t\\t\\t\\t\\n\\t\\t\\t\\n\\t\\t\\t\\n\\t\\t\\t\\n\\t\\t\\t\\n\\t\\t\\t\\n\\t\\n\\t\\t\\n\\t\\t\\t\\n\\t\\t\\t\\t\\n\\t\\t\\t\\t\\t<tr onMouseOver=\"mouseOver(this)\" onMouseOut=\"mouseOut(this)\">\\n\\t\\t\\t\\t\\t<td align=\"center\"><span class=\"tah p10 gray03\">2021.07.30</span></td>\\n\\t\\t\\t\\t\\t<td class=\"num\"><span class=\"tah p11\">253,500</span></td>\\n\\t\\t\\t\\t\\t<td class=\"num\">\\n\\t\\t\\t\\t<img src=\"https://ssl.pstatic.net/imgstock/images/images4/ico_down.gif\" width=\"7\" height=\"6\" style=\"margin-right:4px;\" alt=\"하락\"><span class=\"tah p11 nv01\">\\n\\t\\t\\t\\t8,000\\n\\t\\t\\t\\t</span>\\n\\t\\t\\t</td>\\n\\t\\t\\t\\t\\t<td class=\"num\"><span class=\"tah p11\">261,500</span></td>\\n\\t\\t\\t\\t\\t<td class=\"num\"><span class=\"tah p11\">262,000</span></td>\\n\\t\\t\\t\\t\\t<td class=\"num\"><span class=\"tah p11\">253,500</span></td>\\n\\t\\t\\t\\t\\t<td class=\"num\"><span class=\"tah p11\">627,804</span></td>\\n\\t\\t\\t\\t\\t</tr>\\n\\t\\t\\t\\t\\n\\t\\t\\t\\t\\n\\t\\t\\t\\n\\t\\t\\t\\n\\t\\t\\t\\n\\t\\t\\t\\n\\t\\t\\t\\n\\t\\n\\t\\t\\n\\t\\t\\t\\n\\t\\t\\t\\t\\n\\t\\t\\t\\t\\t<tr onMouseOver=\"mouseOver(this)\" onMouseOut=\"mouseOut(this)\">\\n\\t\\t\\t\\t\\t<td align=\"center\"><span class=\"tah p10 gray03\">2021.07.29</span></td>\\n\\t\\t\\t\\t\\t<td class=\"num\"><span class=\"tah p11\">261,500</span></td>\\n\\t\\t\\t\\t\\t<td class=\"num\">\\n\\t\\t\\t\\t<span class=\"tah p11\">0</span>\\n\\t\\t\\t</td>\\n\\t\\t\\t\\t\\t<td class=\"num\"><span class=\"tah p11\">261,500</span></td>\\n\\t\\t\\t\\t\\t<td class=\"num\"><span class=\"tah p11\">263,500</span></td>\\n\\t\\t\\t\\t\\t<td class=\"num\"><span class=\"tah p11\">261,000</span></td>\\n\\t\\t\\t\\t\\t<td class=\"num\"><span class=\"tah p11\">234,784</span></td>\\n\\t\\t\\t\\t\\t</tr>\\n\\t\\t\\t\\t\\n\\t\\t\\t\\t\\n\\t\\t\\t\\n\\t\\t\\t\\n\\t\\t\\t\\n\\t\\t\\t\\n\\t\\t\\t\\n\\t\\n\\t\\t\\n\\t\\t\\t\\n\\t\\t\\t\\t\\n\\t\\t\\t\\t\\t<tr onMouseOver=\"mouseOver(this)\" onMouseOut=\"mouseOut(this)\">\\n\\t\\t\\t\\t\\t<td align=\"center\"><span class=\"tah p10 gray03\">2021.07.28</span></td>\\n\\t\\t\\t\\t\\t<td class=\"num\"><span class=\"tah p11\">261,500</span></td>\\n\\t\\t\\t\\t\\t<td class=\"num\">\\n\\t\\t\\t\\t<img src=\"https://ssl.pstatic.net/imgstock/images/images4/ico_down.gif\" width=\"7\" height=\"6\" style=\"margin-right:4px;\" alt=\"하락\"><span class=\"tah p11 nv01\">\\n\\t\\t\\t\\t2,000\\n\\t\\t\\t\\t</span>\\n\\t\\t\\t</td>\\n\\t\\t\\t\\t\\t<td class=\"num\"><span class=\"tah p11\">263,500</span></td>\\n\\t\\t\\t\\t\\t<td class=\"num\"><span class=\"tah p11\">265,000</span></td>\\n\\t\\t\\t\\t\\t<td class=\"num\"><span class=\"tah p11\">260,500</span></td>\\n\\t\\t\\t\\t\\t<td class=\"num\"><span class=\"tah p11\">333,216</span></td>\\n\\t\\t\\t\\t\\t</tr>\\n\\t\\t\\t\\t\\n\\t\\t\\t\\t\\n\\t\\t\\t\\n\\t\\t\\t\\n\\t\\t\\t\\n\\t\\t\\t\\n\\t\\t\\t\\n\\t\\n\\t\\t\\n\\t\\t\\t\\n\\t\\t\\t\\t\\n\\t\\t\\t\\t\\t<tr onMouseOver=\"mouseOver(this)\" onMouseOut=\"mouseOut(this)\">\\n\\t\\t\\t\\t\\t<td align=\"center\"><span class=\"tah p10 gray03\">2021.07.27</span></td>\\n\\t\\t\\t\\t\\t<td class=\"num\"><span class=\"tah p11\">263,500</span></td>\\n\\t\\t\\t\\t\\t<td class=\"num\">\\n\\t\\t\\t\\t<img src=\"https://ssl.pstatic.net/imgstock/images/images4/ico_down.gif\" width=\"7\" height=\"6\" style=\"margin-right:4px;\" alt=\"하락\"><span class=\"tah p11 nv01\">\\n\\t\\t\\t\\t500\\n\\t\\t\\t\\t</span>\\n\\t\\t\\t</td>\\n\\t\\t\\t\\t\\t<td class=\"num\"><span class=\"tah p11\">266,500</span></td>\\n\\t\\t\\t\\t\\t<td class=\"num\"><span class=\"tah p11\">269,000</span></td>\\n\\t\\t\\t\\t\\t<td class=\"num\"><span class=\"tah p11\">262,500</span></td>\\n\\t\\t\\t\\t\\t<td class=\"num\"><span class=\"tah p11\">293,542</span></td>\\n\\t\\t\\t\\t\\t</tr>\\n\\t\\t\\t\\t\\n\\t\\t\\t\\t\\n\\t\\t\\t\\n\\t\\t\\t\\n\\t\\t\\t\\n\\t\\t\\t\\n\\t\\t\\t\\n\\t\\n\\t\\t\\n\\t\\n\\t\\n\\t\\n\\n\\t\\t\\t\\t<tr>\\n\\t\\t\\t\\t<td colspan=\"7\" height=\"8\"></td>\\n\\t\\t\\t\\t</tr>\\n\\t\\t\\t\\t</table>\\n\\t\\t\\t\\t<!--- 페이지 네비게이션 시작--->\\n\\t\\t\\t\\t<table summary=\"페이지 네비게이션 리스트\" class=\"Nnavi\" align=\"center\">\\n\\t\\t\\t\\t<caption>페이지 네비게이션</caption>\\n\\t\\t\\t\\t<tr>\\t\\t\\n\\t\\t\\t\\n\\t\\t\\t\\t\\n                \\n                <td class=\"on\">\\n\\t\\t\\t\\t<a href=\"/item/sise_day.nhn?code=068270&amp;page=1\"  >1</a>\\n\\t\\t\\t\\t</td>\\n<td>\\n\\t\\t\\t\\t<a href=\"/item/sise_day.nhn?code=068270&amp;page=2\"  >2</a>\\n\\t\\t\\t\\t</td>\\n<td>\\n\\t\\t\\t\\t<a href=\"/item/sise_day.nhn?code=068270&amp;page=3\"  >3</a>\\n\\t\\t\\t\\t</td>\\n<td>\\n\\t\\t\\t\\t<a href=\"/item/sise_day.nhn?code=068270&amp;page=4\"  >4</a>\\n\\t\\t\\t\\t</td>\\n<td>\\n\\t\\t\\t\\t<a href=\"/item/sise_day.nhn?code=068270&amp;page=5\"  >5</a>\\n\\t\\t\\t\\t</td>\\n<td>\\n\\t\\t\\t\\t<a href=\"/item/sise_day.nhn?code=068270&amp;page=6\"  >6</a>\\n\\t\\t\\t\\t</td>\\n<td>\\n\\t\\t\\t\\t<a href=\"/item/sise_day.nhn?code=068270&amp;page=7\"  >7</a>\\n\\t\\t\\t\\t</td>\\n<td>\\n\\t\\t\\t\\t<a href=\"/item/sise_day.nhn?code=068270&amp;page=8\"  >8</a>\\n\\t\\t\\t\\t</td>\\n<td>\\n\\t\\t\\t\\t<a href=\"/item/sise_day.nhn?code=068270&amp;page=9\"  >9</a>\\n\\t\\t\\t\\t</td>\\n<td>\\n\\t\\t\\t\\t<a href=\"/item/sise_day.nhn?code=068270&amp;page=10\"  >10</a>\\n\\t\\t\\t\\t</td>\\n\\n                <td class=\"pgR\">\\n\\t\\t\\t\\t<a href=\"/item/sise_day.nhn?code=068270&amp;page=11\"  >\\n\\t\\t\\t\\t다음<img src=\"https://ssl.pstatic.net/static/n/cmn/bu_pgarR.gif\" width=\"3\" height=\"5\" alt=\"\" border=\"0\">\\n\\t\\t\\t\\t</a>\\n\\t\\t\\t\\t</td>\\n\\n                <td class=\"pgRR\">\\n\\t\\t\\t\\t<a href=\"/item/sise_day.nhn?code=068270&amp;page=398\"  >맨뒤\\n\\t\\t\\t\\t<img src=\"https://ssl.pstatic.net/static/n/cmn/bu_pgarRR.gif\" width=\"8\" height=\"5\" alt=\"\" border=\"0\">\\n\\t\\t\\t\\t</a>\\n\\t\\t\\t\\t</td>\\n\\n            \\n\\t\\t\\t\\t</tr>\\n\\t\\t\\t\\t</table>\\n\\t\\t\\t\\t<!--- 페이지 네비게이션 끝--->\\n\\n\\n\\t<script type=\"text/javascript\" src=\"https://ssl.pstatic.net/imgstock/static.pc/20210803162128/js/jindo.min.ns.1.5.3.euckr.js\"></script>\\n\\t<script type=\"text/javascript\" src=\"https://ssl.pstatic.net/imgstock/static.pc/20210803162128/js/lcslog.js\"></script>\\n\\t<script type=\"text/javascript\">\\n        ;(function(){\\n            var eventType = \"onpageshow\" in window ? \"pageshow\" : \"load\";\\n            jindo.$Fn(function(){\\n                lcs_do();\\n            }).attach(window, eventType);\\n        })();\\n\\t</script>\\n\\n</body>'"
            ]
          },
          "metadata": {
            "tags": []
          },
          "execution_count": 24
        }
      ]
    },
    {
      "cell_type": "code",
      "metadata": {
        "id": "blhdUHwj_Wtu"
      },
      "source": [
        "from bs4 import BeautifulSoup as bs\n",
        "html=bs(response.text, 'html.parser')\n",
        "html_table=html.select(\"table\")"
      ],
      "execution_count": 25,
      "outputs": []
    },
    {
      "cell_type": "code",
      "metadata": {
        "colab": {
          "base_uri": "https://localhost:8080/",
          "height": 357
        },
        "id": "JfudUJxL_quP",
        "outputId": "4beff833-cd96-4337-cdf7-e300e65bd5f6"
      },
      "source": [
        "table=pd.read_html(str(html_table)) #pd.read_html: 테이블을 데이터프레임으로 저장해줌\n",
        "table[0].dropna() #결측값 제거"
      ],
      "execution_count": 26,
      "outputs": [
        {
          "output_type": "execute_result",
          "data": {
            "text/html": [
              "<div>\n",
              "<style scoped>\n",
              "    .dataframe tbody tr th:only-of-type {\n",
              "        vertical-align: middle;\n",
              "    }\n",
              "\n",
              "    .dataframe tbody tr th {\n",
              "        vertical-align: top;\n",
              "    }\n",
              "\n",
              "    .dataframe thead th {\n",
              "        text-align: right;\n",
              "    }\n",
              "</style>\n",
              "<table border=\"1\" class=\"dataframe\">\n",
              "  <thead>\n",
              "    <tr style=\"text-align: right;\">\n",
              "      <th></th>\n",
              "      <th>날짜</th>\n",
              "      <th>종가</th>\n",
              "      <th>전일비</th>\n",
              "      <th>시가</th>\n",
              "      <th>고가</th>\n",
              "      <th>저가</th>\n",
              "      <th>거래량</th>\n",
              "    </tr>\n",
              "  </thead>\n",
              "  <tbody>\n",
              "    <tr>\n",
              "      <th>1</th>\n",
              "      <td>2021.08.09</td>\n",
              "      <td>266000.0</td>\n",
              "      <td>5500.0</td>\n",
              "      <td>270500.0</td>\n",
              "      <td>271000.0</td>\n",
              "      <td>264500.0</td>\n",
              "      <td>346417.0</td>\n",
              "    </tr>\n",
              "    <tr>\n",
              "      <th>2</th>\n",
              "      <td>2021.08.06</td>\n",
              "      <td>271500.0</td>\n",
              "      <td>2500.0</td>\n",
              "      <td>271000.0</td>\n",
              "      <td>273000.0</td>\n",
              "      <td>267500.0</td>\n",
              "      <td>332369.0</td>\n",
              "    </tr>\n",
              "    <tr>\n",
              "      <th>3</th>\n",
              "      <td>2021.08.05</td>\n",
              "      <td>269000.0</td>\n",
              "      <td>500.0</td>\n",
              "      <td>270000.0</td>\n",
              "      <td>275000.0</td>\n",
              "      <td>268500.0</td>\n",
              "      <td>411854.0</td>\n",
              "    </tr>\n",
              "    <tr>\n",
              "      <th>4</th>\n",
              "      <td>2021.08.04</td>\n",
              "      <td>269500.0</td>\n",
              "      <td>4500.0</td>\n",
              "      <td>265000.0</td>\n",
              "      <td>272500.0</td>\n",
              "      <td>264500.0</td>\n",
              "      <td>497787.0</td>\n",
              "    </tr>\n",
              "    <tr>\n",
              "      <th>5</th>\n",
              "      <td>2021.08.03</td>\n",
              "      <td>265000.0</td>\n",
              "      <td>1500.0</td>\n",
              "      <td>263500.0</td>\n",
              "      <td>265000.0</td>\n",
              "      <td>260500.0</td>\n",
              "      <td>279936.0</td>\n",
              "    </tr>\n",
              "    <tr>\n",
              "      <th>9</th>\n",
              "      <td>2021.08.02</td>\n",
              "      <td>263500.0</td>\n",
              "      <td>10000.0</td>\n",
              "      <td>255500.0</td>\n",
              "      <td>264000.0</td>\n",
              "      <td>255500.0</td>\n",
              "      <td>459181.0</td>\n",
              "    </tr>\n",
              "    <tr>\n",
              "      <th>10</th>\n",
              "      <td>2021.07.30</td>\n",
              "      <td>253500.0</td>\n",
              "      <td>8000.0</td>\n",
              "      <td>261500.0</td>\n",
              "      <td>262000.0</td>\n",
              "      <td>253500.0</td>\n",
              "      <td>627804.0</td>\n",
              "    </tr>\n",
              "    <tr>\n",
              "      <th>11</th>\n",
              "      <td>2021.07.29</td>\n",
              "      <td>261500.0</td>\n",
              "      <td>0.0</td>\n",
              "      <td>261500.0</td>\n",
              "      <td>263500.0</td>\n",
              "      <td>261000.0</td>\n",
              "      <td>234784.0</td>\n",
              "    </tr>\n",
              "    <tr>\n",
              "      <th>12</th>\n",
              "      <td>2021.07.28</td>\n",
              "      <td>261500.0</td>\n",
              "      <td>2000.0</td>\n",
              "      <td>263500.0</td>\n",
              "      <td>265000.0</td>\n",
              "      <td>260500.0</td>\n",
              "      <td>333216.0</td>\n",
              "    </tr>\n",
              "    <tr>\n",
              "      <th>13</th>\n",
              "      <td>2021.07.27</td>\n",
              "      <td>263500.0</td>\n",
              "      <td>500.0</td>\n",
              "      <td>266500.0</td>\n",
              "      <td>269000.0</td>\n",
              "      <td>262500.0</td>\n",
              "      <td>293542.0</td>\n",
              "    </tr>\n",
              "  </tbody>\n",
              "</table>\n",
              "</div>"
            ],
            "text/plain": [
              "            날짜        종가      전일비        시가        고가        저가       거래량\n",
              "1   2021.08.09  266000.0   5500.0  270500.0  271000.0  264500.0  346417.0\n",
              "2   2021.08.06  271500.0   2500.0  271000.0  273000.0  267500.0  332369.0\n",
              "3   2021.08.05  269000.0    500.0  270000.0  275000.0  268500.0  411854.0\n",
              "4   2021.08.04  269500.0   4500.0  265000.0  272500.0  264500.0  497787.0\n",
              "5   2021.08.03  265000.0   1500.0  263500.0  265000.0  260500.0  279936.0\n",
              "9   2021.08.02  263500.0  10000.0  255500.0  264000.0  255500.0  459181.0\n",
              "10  2021.07.30  253500.0   8000.0  261500.0  262000.0  253500.0  627804.0\n",
              "11  2021.07.29  261500.0      0.0  261500.0  263500.0  261000.0  234784.0\n",
              "12  2021.07.28  261500.0   2000.0  263500.0  265000.0  260500.0  333216.0\n",
              "13  2021.07.27  263500.0    500.0  266500.0  269000.0  262500.0  293542.0"
            ]
          },
          "metadata": {
            "tags": []
          },
          "execution_count": 26
        }
      ]
    },
    {
      "cell_type": "code",
      "metadata": {
        "colab": {
          "base_uri": "https://localhost:8080/",
          "height": 80
        },
        "id": "BZ-xuN7O_0Ps",
        "outputId": "d1c0965c-b4f9-49ca-8822-0f78bb205b53"
      },
      "source": [
        "table[1] #원하지 않는 데이터 프레임"
      ],
      "execution_count": 27,
      "outputs": [
        {
          "output_type": "execute_result",
          "data": {
            "text/html": [
              "<div>\n",
              "<style scoped>\n",
              "    .dataframe tbody tr th:only-of-type {\n",
              "        vertical-align: middle;\n",
              "    }\n",
              "\n",
              "    .dataframe tbody tr th {\n",
              "        vertical-align: top;\n",
              "    }\n",
              "\n",
              "    .dataframe thead th {\n",
              "        text-align: right;\n",
              "    }\n",
              "</style>\n",
              "<table border=\"1\" class=\"dataframe\">\n",
              "  <thead>\n",
              "    <tr style=\"text-align: right;\">\n",
              "      <th></th>\n",
              "      <th>0</th>\n",
              "      <th>1</th>\n",
              "      <th>2</th>\n",
              "      <th>3</th>\n",
              "      <th>4</th>\n",
              "      <th>5</th>\n",
              "      <th>6</th>\n",
              "      <th>7</th>\n",
              "      <th>8</th>\n",
              "      <th>9</th>\n",
              "      <th>10</th>\n",
              "      <th>11</th>\n",
              "    </tr>\n",
              "  </thead>\n",
              "  <tbody>\n",
              "    <tr>\n",
              "      <th>0</th>\n",
              "      <td>1</td>\n",
              "      <td>2</td>\n",
              "      <td>3</td>\n",
              "      <td>4</td>\n",
              "      <td>5</td>\n",
              "      <td>6</td>\n",
              "      <td>7</td>\n",
              "      <td>8</td>\n",
              "      <td>9</td>\n",
              "      <td>10</td>\n",
              "      <td>다음</td>\n",
              "      <td>맨뒤</td>\n",
              "    </tr>\n",
              "  </tbody>\n",
              "</table>\n",
              "</div>"
            ],
            "text/plain": [
              "   0   1   2   3   4   5   6   7   8   9   10  11\n",
              "0   1   2   3   4   5   6   7   8   9  10  다음  맨뒤"
            ]
          },
          "metadata": {
            "tags": []
          },
          "execution_count": 27
        }
      ]
    },
    {
      "cell_type": "code",
      "metadata": {
        "colab": {
          "base_uri": "https://localhost:8080/"
        },
        "id": "12JoiYZZAfG6",
        "outputId": "8118978a-e0a4-478f-d8a8-d2de5ca437fa"
      },
      "source": [
        "df=pd.DataFrame()\n",
        "sise_url='https://finance.naver.com/item/sise_day.nhn?code=068270'\n",
        "for page in range(1,100):\n",
        "   page_url='{}&page'.format(sise_url, page)\n",
        "   print(page_url)\n",
        "   \n",
        "   # 위의 내용 반복\n",
        "   response=requests.get(url, headers=headers)\n",
        "   html=bs(response.text, 'html.parser')\n",
        "   html_table=html.select(\"table\")\n",
        "   \n",
        "   #append 기능으로 추가\n",
        "   df=df.append(table[0].dropna())"
      ],
      "execution_count": 29,
      "outputs": [
        {
          "output_type": "stream",
          "text": [
            "https://finance.naver.com/item/sise_day.nhn?code=068270&page\n",
            "https://finance.naver.com/item/sise_day.nhn?code=068270&page\n",
            "https://finance.naver.com/item/sise_day.nhn?code=068270&page\n",
            "https://finance.naver.com/item/sise_day.nhn?code=068270&page\n",
            "https://finance.naver.com/item/sise_day.nhn?code=068270&page\n",
            "https://finance.naver.com/item/sise_day.nhn?code=068270&page\n",
            "https://finance.naver.com/item/sise_day.nhn?code=068270&page\n",
            "https://finance.naver.com/item/sise_day.nhn?code=068270&page\n",
            "https://finance.naver.com/item/sise_day.nhn?code=068270&page\n",
            "https://finance.naver.com/item/sise_day.nhn?code=068270&page\n",
            "https://finance.naver.com/item/sise_day.nhn?code=068270&page\n",
            "https://finance.naver.com/item/sise_day.nhn?code=068270&page\n",
            "https://finance.naver.com/item/sise_day.nhn?code=068270&page\n",
            "https://finance.naver.com/item/sise_day.nhn?code=068270&page\n",
            "https://finance.naver.com/item/sise_day.nhn?code=068270&page\n",
            "https://finance.naver.com/item/sise_day.nhn?code=068270&page\n",
            "https://finance.naver.com/item/sise_day.nhn?code=068270&page\n",
            "https://finance.naver.com/item/sise_day.nhn?code=068270&page\n",
            "https://finance.naver.com/item/sise_day.nhn?code=068270&page\n",
            "https://finance.naver.com/item/sise_day.nhn?code=068270&page\n",
            "https://finance.naver.com/item/sise_day.nhn?code=068270&page\n",
            "https://finance.naver.com/item/sise_day.nhn?code=068270&page\n",
            "https://finance.naver.com/item/sise_day.nhn?code=068270&page\n",
            "https://finance.naver.com/item/sise_day.nhn?code=068270&page\n",
            "https://finance.naver.com/item/sise_day.nhn?code=068270&page\n",
            "https://finance.naver.com/item/sise_day.nhn?code=068270&page\n",
            "https://finance.naver.com/item/sise_day.nhn?code=068270&page\n",
            "https://finance.naver.com/item/sise_day.nhn?code=068270&page\n",
            "https://finance.naver.com/item/sise_day.nhn?code=068270&page\n",
            "https://finance.naver.com/item/sise_day.nhn?code=068270&page\n",
            "https://finance.naver.com/item/sise_day.nhn?code=068270&page\n",
            "https://finance.naver.com/item/sise_day.nhn?code=068270&page\n",
            "https://finance.naver.com/item/sise_day.nhn?code=068270&page\n",
            "https://finance.naver.com/item/sise_day.nhn?code=068270&page\n",
            "https://finance.naver.com/item/sise_day.nhn?code=068270&page\n",
            "https://finance.naver.com/item/sise_day.nhn?code=068270&page\n",
            "https://finance.naver.com/item/sise_day.nhn?code=068270&page\n",
            "https://finance.naver.com/item/sise_day.nhn?code=068270&page\n",
            "https://finance.naver.com/item/sise_day.nhn?code=068270&page\n",
            "https://finance.naver.com/item/sise_day.nhn?code=068270&page\n",
            "https://finance.naver.com/item/sise_day.nhn?code=068270&page\n",
            "https://finance.naver.com/item/sise_day.nhn?code=068270&page\n",
            "https://finance.naver.com/item/sise_day.nhn?code=068270&page\n",
            "https://finance.naver.com/item/sise_day.nhn?code=068270&page\n",
            "https://finance.naver.com/item/sise_day.nhn?code=068270&page\n",
            "https://finance.naver.com/item/sise_day.nhn?code=068270&page\n",
            "https://finance.naver.com/item/sise_day.nhn?code=068270&page\n",
            "https://finance.naver.com/item/sise_day.nhn?code=068270&page\n",
            "https://finance.naver.com/item/sise_day.nhn?code=068270&page\n",
            "https://finance.naver.com/item/sise_day.nhn?code=068270&page\n",
            "https://finance.naver.com/item/sise_day.nhn?code=068270&page\n",
            "https://finance.naver.com/item/sise_day.nhn?code=068270&page\n",
            "https://finance.naver.com/item/sise_day.nhn?code=068270&page\n",
            "https://finance.naver.com/item/sise_day.nhn?code=068270&page\n",
            "https://finance.naver.com/item/sise_day.nhn?code=068270&page\n",
            "https://finance.naver.com/item/sise_day.nhn?code=068270&page\n",
            "https://finance.naver.com/item/sise_day.nhn?code=068270&page\n",
            "https://finance.naver.com/item/sise_day.nhn?code=068270&page\n",
            "https://finance.naver.com/item/sise_day.nhn?code=068270&page\n",
            "https://finance.naver.com/item/sise_day.nhn?code=068270&page\n",
            "https://finance.naver.com/item/sise_day.nhn?code=068270&page\n",
            "https://finance.naver.com/item/sise_day.nhn?code=068270&page\n",
            "https://finance.naver.com/item/sise_day.nhn?code=068270&page\n",
            "https://finance.naver.com/item/sise_day.nhn?code=068270&page\n",
            "https://finance.naver.com/item/sise_day.nhn?code=068270&page\n",
            "https://finance.naver.com/item/sise_day.nhn?code=068270&page\n",
            "https://finance.naver.com/item/sise_day.nhn?code=068270&page\n",
            "https://finance.naver.com/item/sise_day.nhn?code=068270&page\n",
            "https://finance.naver.com/item/sise_day.nhn?code=068270&page\n",
            "https://finance.naver.com/item/sise_day.nhn?code=068270&page\n",
            "https://finance.naver.com/item/sise_day.nhn?code=068270&page\n",
            "https://finance.naver.com/item/sise_day.nhn?code=068270&page\n",
            "https://finance.naver.com/item/sise_day.nhn?code=068270&page\n",
            "https://finance.naver.com/item/sise_day.nhn?code=068270&page\n",
            "https://finance.naver.com/item/sise_day.nhn?code=068270&page\n",
            "https://finance.naver.com/item/sise_day.nhn?code=068270&page\n",
            "https://finance.naver.com/item/sise_day.nhn?code=068270&page\n",
            "https://finance.naver.com/item/sise_day.nhn?code=068270&page\n",
            "https://finance.naver.com/item/sise_day.nhn?code=068270&page\n",
            "https://finance.naver.com/item/sise_day.nhn?code=068270&page\n",
            "https://finance.naver.com/item/sise_day.nhn?code=068270&page\n",
            "https://finance.naver.com/item/sise_day.nhn?code=068270&page\n",
            "https://finance.naver.com/item/sise_day.nhn?code=068270&page\n",
            "https://finance.naver.com/item/sise_day.nhn?code=068270&page\n",
            "https://finance.naver.com/item/sise_day.nhn?code=068270&page\n",
            "https://finance.naver.com/item/sise_day.nhn?code=068270&page\n",
            "https://finance.naver.com/item/sise_day.nhn?code=068270&page\n",
            "https://finance.naver.com/item/sise_day.nhn?code=068270&page\n",
            "https://finance.naver.com/item/sise_day.nhn?code=068270&page\n",
            "https://finance.naver.com/item/sise_day.nhn?code=068270&page\n",
            "https://finance.naver.com/item/sise_day.nhn?code=068270&page\n",
            "https://finance.naver.com/item/sise_day.nhn?code=068270&page\n",
            "https://finance.naver.com/item/sise_day.nhn?code=068270&page\n",
            "https://finance.naver.com/item/sise_day.nhn?code=068270&page\n",
            "https://finance.naver.com/item/sise_day.nhn?code=068270&page\n",
            "https://finance.naver.com/item/sise_day.nhn?code=068270&page\n",
            "https://finance.naver.com/item/sise_day.nhn?code=068270&page\n",
            "https://finance.naver.com/item/sise_day.nhn?code=068270&page\n",
            "https://finance.naver.com/item/sise_day.nhn?code=068270&page\n"
          ],
          "name": "stdout"
        }
      ]
    },
    {
      "cell_type": "code",
      "metadata": {
        "colab": {
          "base_uri": "https://localhost:8080/",
          "height": 417
        },
        "id": "1qHvmAJHBUqq",
        "outputId": "46abc1c1-89e0-46bd-9cb9-b6e23cd8c3f8"
      },
      "source": [
        "df"
      ],
      "execution_count": 30,
      "outputs": [
        {
          "output_type": "execute_result",
          "data": {
            "text/html": [
              "<div>\n",
              "<style scoped>\n",
              "    .dataframe tbody tr th:only-of-type {\n",
              "        vertical-align: middle;\n",
              "    }\n",
              "\n",
              "    .dataframe tbody tr th {\n",
              "        vertical-align: top;\n",
              "    }\n",
              "\n",
              "    .dataframe thead th {\n",
              "        text-align: right;\n",
              "    }\n",
              "</style>\n",
              "<table border=\"1\" class=\"dataframe\">\n",
              "  <thead>\n",
              "    <tr style=\"text-align: right;\">\n",
              "      <th></th>\n",
              "      <th>날짜</th>\n",
              "      <th>종가</th>\n",
              "      <th>전일비</th>\n",
              "      <th>시가</th>\n",
              "      <th>고가</th>\n",
              "      <th>저가</th>\n",
              "      <th>거래량</th>\n",
              "    </tr>\n",
              "  </thead>\n",
              "  <tbody>\n",
              "    <tr>\n",
              "      <th>1</th>\n",
              "      <td>2021.08.09</td>\n",
              "      <td>266000.0</td>\n",
              "      <td>5500.0</td>\n",
              "      <td>270500.0</td>\n",
              "      <td>271000.0</td>\n",
              "      <td>264500.0</td>\n",
              "      <td>346417.0</td>\n",
              "    </tr>\n",
              "    <tr>\n",
              "      <th>2</th>\n",
              "      <td>2021.08.06</td>\n",
              "      <td>271500.0</td>\n",
              "      <td>2500.0</td>\n",
              "      <td>271000.0</td>\n",
              "      <td>273000.0</td>\n",
              "      <td>267500.0</td>\n",
              "      <td>332369.0</td>\n",
              "    </tr>\n",
              "    <tr>\n",
              "      <th>3</th>\n",
              "      <td>2021.08.05</td>\n",
              "      <td>269000.0</td>\n",
              "      <td>500.0</td>\n",
              "      <td>270000.0</td>\n",
              "      <td>275000.0</td>\n",
              "      <td>268500.0</td>\n",
              "      <td>411854.0</td>\n",
              "    </tr>\n",
              "    <tr>\n",
              "      <th>4</th>\n",
              "      <td>2021.08.04</td>\n",
              "      <td>269500.0</td>\n",
              "      <td>4500.0</td>\n",
              "      <td>265000.0</td>\n",
              "      <td>272500.0</td>\n",
              "      <td>264500.0</td>\n",
              "      <td>497787.0</td>\n",
              "    </tr>\n",
              "    <tr>\n",
              "      <th>5</th>\n",
              "      <td>2021.08.03</td>\n",
              "      <td>265000.0</td>\n",
              "      <td>1500.0</td>\n",
              "      <td>263500.0</td>\n",
              "      <td>265000.0</td>\n",
              "      <td>260500.0</td>\n",
              "      <td>279936.0</td>\n",
              "    </tr>\n",
              "    <tr>\n",
              "      <th>...</th>\n",
              "      <td>...</td>\n",
              "      <td>...</td>\n",
              "      <td>...</td>\n",
              "      <td>...</td>\n",
              "      <td>...</td>\n",
              "      <td>...</td>\n",
              "      <td>...</td>\n",
              "    </tr>\n",
              "    <tr>\n",
              "      <th>9</th>\n",
              "      <td>2021.08.02</td>\n",
              "      <td>263500.0</td>\n",
              "      <td>10000.0</td>\n",
              "      <td>255500.0</td>\n",
              "      <td>264000.0</td>\n",
              "      <td>255500.0</td>\n",
              "      <td>459181.0</td>\n",
              "    </tr>\n",
              "    <tr>\n",
              "      <th>10</th>\n",
              "      <td>2021.07.30</td>\n",
              "      <td>253500.0</td>\n",
              "      <td>8000.0</td>\n",
              "      <td>261500.0</td>\n",
              "      <td>262000.0</td>\n",
              "      <td>253500.0</td>\n",
              "      <td>627804.0</td>\n",
              "    </tr>\n",
              "    <tr>\n",
              "      <th>11</th>\n",
              "      <td>2021.07.29</td>\n",
              "      <td>261500.0</td>\n",
              "      <td>0.0</td>\n",
              "      <td>261500.0</td>\n",
              "      <td>263500.0</td>\n",
              "      <td>261000.0</td>\n",
              "      <td>234784.0</td>\n",
              "    </tr>\n",
              "    <tr>\n",
              "      <th>12</th>\n",
              "      <td>2021.07.28</td>\n",
              "      <td>261500.0</td>\n",
              "      <td>2000.0</td>\n",
              "      <td>263500.0</td>\n",
              "      <td>265000.0</td>\n",
              "      <td>260500.0</td>\n",
              "      <td>333216.0</td>\n",
              "    </tr>\n",
              "    <tr>\n",
              "      <th>13</th>\n",
              "      <td>2021.07.27</td>\n",
              "      <td>263500.0</td>\n",
              "      <td>500.0</td>\n",
              "      <td>266500.0</td>\n",
              "      <td>269000.0</td>\n",
              "      <td>262500.0</td>\n",
              "      <td>293542.0</td>\n",
              "    </tr>\n",
              "  </tbody>\n",
              "</table>\n",
              "<p>990 rows × 7 columns</p>\n",
              "</div>"
            ],
            "text/plain": [
              "            날짜        종가      전일비        시가        고가        저가       거래량\n",
              "1   2021.08.09  266000.0   5500.0  270500.0  271000.0  264500.0  346417.0\n",
              "2   2021.08.06  271500.0   2500.0  271000.0  273000.0  267500.0  332369.0\n",
              "3   2021.08.05  269000.0    500.0  270000.0  275000.0  268500.0  411854.0\n",
              "4   2021.08.04  269500.0   4500.0  265000.0  272500.0  264500.0  497787.0\n",
              "5   2021.08.03  265000.0   1500.0  263500.0  265000.0  260500.0  279936.0\n",
              "..         ...       ...      ...       ...       ...       ...       ...\n",
              "9   2021.08.02  263500.0  10000.0  255500.0  264000.0  255500.0  459181.0\n",
              "10  2021.07.30  253500.0   8000.0  261500.0  262000.0  253500.0  627804.0\n",
              "11  2021.07.29  261500.0      0.0  261500.0  263500.0  261000.0  234784.0\n",
              "12  2021.07.28  261500.0   2000.0  263500.0  265000.0  260500.0  333216.0\n",
              "13  2021.07.27  263500.0    500.0  266500.0  269000.0  262500.0  293542.0\n",
              "\n",
              "[990 rows x 7 columns]"
            ]
          },
          "metadata": {
            "tags": []
          },
          "execution_count": 30
        }
      ]
    },
    {
      "cell_type": "code",
      "metadata": {
        "id": "fDeTqUFPBqla"
      },
      "source": [
        "#최근 데이터 30행만 사용\n",
        "df=df.dropna()\n",
        "df=df.iloc[0:30] #상위 30개만 사용\n",
        "df=df.sort_values(by='날짜')"
      ],
      "execution_count": 31,
      "outputs": []
    },
    {
      "cell_type": "code",
      "metadata": {
        "colab": {
          "base_uri": "https://localhost:8080/",
          "height": 973
        },
        "id": "QXhCVr7oB9GE",
        "outputId": "aca02dce-c091-466b-d251-a8340645f777"
      },
      "source": [
        "df"
      ],
      "execution_count": 32,
      "outputs": [
        {
          "output_type": "execute_result",
          "data": {
            "text/html": [
              "<div>\n",
              "<style scoped>\n",
              "    .dataframe tbody tr th:only-of-type {\n",
              "        vertical-align: middle;\n",
              "    }\n",
              "\n",
              "    .dataframe tbody tr th {\n",
              "        vertical-align: top;\n",
              "    }\n",
              "\n",
              "    .dataframe thead th {\n",
              "        text-align: right;\n",
              "    }\n",
              "</style>\n",
              "<table border=\"1\" class=\"dataframe\">\n",
              "  <thead>\n",
              "    <tr style=\"text-align: right;\">\n",
              "      <th></th>\n",
              "      <th>날짜</th>\n",
              "      <th>종가</th>\n",
              "      <th>전일비</th>\n",
              "      <th>시가</th>\n",
              "      <th>고가</th>\n",
              "      <th>저가</th>\n",
              "      <th>거래량</th>\n",
              "    </tr>\n",
              "  </thead>\n",
              "  <tbody>\n",
              "    <tr>\n",
              "      <th>13</th>\n",
              "      <td>2021.07.27</td>\n",
              "      <td>263500.0</td>\n",
              "      <td>500.0</td>\n",
              "      <td>266500.0</td>\n",
              "      <td>269000.0</td>\n",
              "      <td>262500.0</td>\n",
              "      <td>293542.0</td>\n",
              "    </tr>\n",
              "    <tr>\n",
              "      <th>13</th>\n",
              "      <td>2021.07.27</td>\n",
              "      <td>263500.0</td>\n",
              "      <td>500.0</td>\n",
              "      <td>266500.0</td>\n",
              "      <td>269000.0</td>\n",
              "      <td>262500.0</td>\n",
              "      <td>293542.0</td>\n",
              "    </tr>\n",
              "    <tr>\n",
              "      <th>13</th>\n",
              "      <td>2021.07.27</td>\n",
              "      <td>263500.0</td>\n",
              "      <td>500.0</td>\n",
              "      <td>266500.0</td>\n",
              "      <td>269000.0</td>\n",
              "      <td>262500.0</td>\n",
              "      <td>293542.0</td>\n",
              "    </tr>\n",
              "    <tr>\n",
              "      <th>12</th>\n",
              "      <td>2021.07.28</td>\n",
              "      <td>261500.0</td>\n",
              "      <td>2000.0</td>\n",
              "      <td>263500.0</td>\n",
              "      <td>265000.0</td>\n",
              "      <td>260500.0</td>\n",
              "      <td>333216.0</td>\n",
              "    </tr>\n",
              "    <tr>\n",
              "      <th>12</th>\n",
              "      <td>2021.07.28</td>\n",
              "      <td>261500.0</td>\n",
              "      <td>2000.0</td>\n",
              "      <td>263500.0</td>\n",
              "      <td>265000.0</td>\n",
              "      <td>260500.0</td>\n",
              "      <td>333216.0</td>\n",
              "    </tr>\n",
              "    <tr>\n",
              "      <th>12</th>\n",
              "      <td>2021.07.28</td>\n",
              "      <td>261500.0</td>\n",
              "      <td>2000.0</td>\n",
              "      <td>263500.0</td>\n",
              "      <td>265000.0</td>\n",
              "      <td>260500.0</td>\n",
              "      <td>333216.0</td>\n",
              "    </tr>\n",
              "    <tr>\n",
              "      <th>11</th>\n",
              "      <td>2021.07.29</td>\n",
              "      <td>261500.0</td>\n",
              "      <td>0.0</td>\n",
              "      <td>261500.0</td>\n",
              "      <td>263500.0</td>\n",
              "      <td>261000.0</td>\n",
              "      <td>234784.0</td>\n",
              "    </tr>\n",
              "    <tr>\n",
              "      <th>11</th>\n",
              "      <td>2021.07.29</td>\n",
              "      <td>261500.0</td>\n",
              "      <td>0.0</td>\n",
              "      <td>261500.0</td>\n",
              "      <td>263500.0</td>\n",
              "      <td>261000.0</td>\n",
              "      <td>234784.0</td>\n",
              "    </tr>\n",
              "    <tr>\n",
              "      <th>11</th>\n",
              "      <td>2021.07.29</td>\n",
              "      <td>261500.0</td>\n",
              "      <td>0.0</td>\n",
              "      <td>261500.0</td>\n",
              "      <td>263500.0</td>\n",
              "      <td>261000.0</td>\n",
              "      <td>234784.0</td>\n",
              "    </tr>\n",
              "    <tr>\n",
              "      <th>10</th>\n",
              "      <td>2021.07.30</td>\n",
              "      <td>253500.0</td>\n",
              "      <td>8000.0</td>\n",
              "      <td>261500.0</td>\n",
              "      <td>262000.0</td>\n",
              "      <td>253500.0</td>\n",
              "      <td>627804.0</td>\n",
              "    </tr>\n",
              "    <tr>\n",
              "      <th>10</th>\n",
              "      <td>2021.07.30</td>\n",
              "      <td>253500.0</td>\n",
              "      <td>8000.0</td>\n",
              "      <td>261500.0</td>\n",
              "      <td>262000.0</td>\n",
              "      <td>253500.0</td>\n",
              "      <td>627804.0</td>\n",
              "    </tr>\n",
              "    <tr>\n",
              "      <th>10</th>\n",
              "      <td>2021.07.30</td>\n",
              "      <td>253500.0</td>\n",
              "      <td>8000.0</td>\n",
              "      <td>261500.0</td>\n",
              "      <td>262000.0</td>\n",
              "      <td>253500.0</td>\n",
              "      <td>627804.0</td>\n",
              "    </tr>\n",
              "    <tr>\n",
              "      <th>9</th>\n",
              "      <td>2021.08.02</td>\n",
              "      <td>263500.0</td>\n",
              "      <td>10000.0</td>\n",
              "      <td>255500.0</td>\n",
              "      <td>264000.0</td>\n",
              "      <td>255500.0</td>\n",
              "      <td>459181.0</td>\n",
              "    </tr>\n",
              "    <tr>\n",
              "      <th>9</th>\n",
              "      <td>2021.08.02</td>\n",
              "      <td>263500.0</td>\n",
              "      <td>10000.0</td>\n",
              "      <td>255500.0</td>\n",
              "      <td>264000.0</td>\n",
              "      <td>255500.0</td>\n",
              "      <td>459181.0</td>\n",
              "    </tr>\n",
              "    <tr>\n",
              "      <th>9</th>\n",
              "      <td>2021.08.02</td>\n",
              "      <td>263500.0</td>\n",
              "      <td>10000.0</td>\n",
              "      <td>255500.0</td>\n",
              "      <td>264000.0</td>\n",
              "      <td>255500.0</td>\n",
              "      <td>459181.0</td>\n",
              "    </tr>\n",
              "    <tr>\n",
              "      <th>5</th>\n",
              "      <td>2021.08.03</td>\n",
              "      <td>265000.0</td>\n",
              "      <td>1500.0</td>\n",
              "      <td>263500.0</td>\n",
              "      <td>265000.0</td>\n",
              "      <td>260500.0</td>\n",
              "      <td>279936.0</td>\n",
              "    </tr>\n",
              "    <tr>\n",
              "      <th>5</th>\n",
              "      <td>2021.08.03</td>\n",
              "      <td>265000.0</td>\n",
              "      <td>1500.0</td>\n",
              "      <td>263500.0</td>\n",
              "      <td>265000.0</td>\n",
              "      <td>260500.0</td>\n",
              "      <td>279936.0</td>\n",
              "    </tr>\n",
              "    <tr>\n",
              "      <th>5</th>\n",
              "      <td>2021.08.03</td>\n",
              "      <td>265000.0</td>\n",
              "      <td>1500.0</td>\n",
              "      <td>263500.0</td>\n",
              "      <td>265000.0</td>\n",
              "      <td>260500.0</td>\n",
              "      <td>279936.0</td>\n",
              "    </tr>\n",
              "    <tr>\n",
              "      <th>4</th>\n",
              "      <td>2021.08.04</td>\n",
              "      <td>269500.0</td>\n",
              "      <td>4500.0</td>\n",
              "      <td>265000.0</td>\n",
              "      <td>272500.0</td>\n",
              "      <td>264500.0</td>\n",
              "      <td>497787.0</td>\n",
              "    </tr>\n",
              "    <tr>\n",
              "      <th>4</th>\n",
              "      <td>2021.08.04</td>\n",
              "      <td>269500.0</td>\n",
              "      <td>4500.0</td>\n",
              "      <td>265000.0</td>\n",
              "      <td>272500.0</td>\n",
              "      <td>264500.0</td>\n",
              "      <td>497787.0</td>\n",
              "    </tr>\n",
              "    <tr>\n",
              "      <th>4</th>\n",
              "      <td>2021.08.04</td>\n",
              "      <td>269500.0</td>\n",
              "      <td>4500.0</td>\n",
              "      <td>265000.0</td>\n",
              "      <td>272500.0</td>\n",
              "      <td>264500.0</td>\n",
              "      <td>497787.0</td>\n",
              "    </tr>\n",
              "    <tr>\n",
              "      <th>3</th>\n",
              "      <td>2021.08.05</td>\n",
              "      <td>269000.0</td>\n",
              "      <td>500.0</td>\n",
              "      <td>270000.0</td>\n",
              "      <td>275000.0</td>\n",
              "      <td>268500.0</td>\n",
              "      <td>411854.0</td>\n",
              "    </tr>\n",
              "    <tr>\n",
              "      <th>3</th>\n",
              "      <td>2021.08.05</td>\n",
              "      <td>269000.0</td>\n",
              "      <td>500.0</td>\n",
              "      <td>270000.0</td>\n",
              "      <td>275000.0</td>\n",
              "      <td>268500.0</td>\n",
              "      <td>411854.0</td>\n",
              "    </tr>\n",
              "    <tr>\n",
              "      <th>3</th>\n",
              "      <td>2021.08.05</td>\n",
              "      <td>269000.0</td>\n",
              "      <td>500.0</td>\n",
              "      <td>270000.0</td>\n",
              "      <td>275000.0</td>\n",
              "      <td>268500.0</td>\n",
              "      <td>411854.0</td>\n",
              "    </tr>\n",
              "    <tr>\n",
              "      <th>2</th>\n",
              "      <td>2021.08.06</td>\n",
              "      <td>271500.0</td>\n",
              "      <td>2500.0</td>\n",
              "      <td>271000.0</td>\n",
              "      <td>273000.0</td>\n",
              "      <td>267500.0</td>\n",
              "      <td>332369.0</td>\n",
              "    </tr>\n",
              "    <tr>\n",
              "      <th>2</th>\n",
              "      <td>2021.08.06</td>\n",
              "      <td>271500.0</td>\n",
              "      <td>2500.0</td>\n",
              "      <td>271000.0</td>\n",
              "      <td>273000.0</td>\n",
              "      <td>267500.0</td>\n",
              "      <td>332369.0</td>\n",
              "    </tr>\n",
              "    <tr>\n",
              "      <th>2</th>\n",
              "      <td>2021.08.06</td>\n",
              "      <td>271500.0</td>\n",
              "      <td>2500.0</td>\n",
              "      <td>271000.0</td>\n",
              "      <td>273000.0</td>\n",
              "      <td>267500.0</td>\n",
              "      <td>332369.0</td>\n",
              "    </tr>\n",
              "    <tr>\n",
              "      <th>1</th>\n",
              "      <td>2021.08.09</td>\n",
              "      <td>266000.0</td>\n",
              "      <td>5500.0</td>\n",
              "      <td>270500.0</td>\n",
              "      <td>271000.0</td>\n",
              "      <td>264500.0</td>\n",
              "      <td>346417.0</td>\n",
              "    </tr>\n",
              "    <tr>\n",
              "      <th>1</th>\n",
              "      <td>2021.08.09</td>\n",
              "      <td>266000.0</td>\n",
              "      <td>5500.0</td>\n",
              "      <td>270500.0</td>\n",
              "      <td>271000.0</td>\n",
              "      <td>264500.0</td>\n",
              "      <td>346417.0</td>\n",
              "    </tr>\n",
              "    <tr>\n",
              "      <th>1</th>\n",
              "      <td>2021.08.09</td>\n",
              "      <td>266000.0</td>\n",
              "      <td>5500.0</td>\n",
              "      <td>270500.0</td>\n",
              "      <td>271000.0</td>\n",
              "      <td>264500.0</td>\n",
              "      <td>346417.0</td>\n",
              "    </tr>\n",
              "  </tbody>\n",
              "</table>\n",
              "</div>"
            ],
            "text/plain": [
              "            날짜        종가      전일비        시가        고가        저가       거래량\n",
              "13  2021.07.27  263500.0    500.0  266500.0  269000.0  262500.0  293542.0\n",
              "13  2021.07.27  263500.0    500.0  266500.0  269000.0  262500.0  293542.0\n",
              "13  2021.07.27  263500.0    500.0  266500.0  269000.0  262500.0  293542.0\n",
              "12  2021.07.28  261500.0   2000.0  263500.0  265000.0  260500.0  333216.0\n",
              "12  2021.07.28  261500.0   2000.0  263500.0  265000.0  260500.0  333216.0\n",
              "12  2021.07.28  261500.0   2000.0  263500.0  265000.0  260500.0  333216.0\n",
              "11  2021.07.29  261500.0      0.0  261500.0  263500.0  261000.0  234784.0\n",
              "11  2021.07.29  261500.0      0.0  261500.0  263500.0  261000.0  234784.0\n",
              "11  2021.07.29  261500.0      0.0  261500.0  263500.0  261000.0  234784.0\n",
              "10  2021.07.30  253500.0   8000.0  261500.0  262000.0  253500.0  627804.0\n",
              "10  2021.07.30  253500.0   8000.0  261500.0  262000.0  253500.0  627804.0\n",
              "10  2021.07.30  253500.0   8000.0  261500.0  262000.0  253500.0  627804.0\n",
              "9   2021.08.02  263500.0  10000.0  255500.0  264000.0  255500.0  459181.0\n",
              "9   2021.08.02  263500.0  10000.0  255500.0  264000.0  255500.0  459181.0\n",
              "9   2021.08.02  263500.0  10000.0  255500.0  264000.0  255500.0  459181.0\n",
              "5   2021.08.03  265000.0   1500.0  263500.0  265000.0  260500.0  279936.0\n",
              "5   2021.08.03  265000.0   1500.0  263500.0  265000.0  260500.0  279936.0\n",
              "5   2021.08.03  265000.0   1500.0  263500.0  265000.0  260500.0  279936.0\n",
              "4   2021.08.04  269500.0   4500.0  265000.0  272500.0  264500.0  497787.0\n",
              "4   2021.08.04  269500.0   4500.0  265000.0  272500.0  264500.0  497787.0\n",
              "4   2021.08.04  269500.0   4500.0  265000.0  272500.0  264500.0  497787.0\n",
              "3   2021.08.05  269000.0    500.0  270000.0  275000.0  268500.0  411854.0\n",
              "3   2021.08.05  269000.0    500.0  270000.0  275000.0  268500.0  411854.0\n",
              "3   2021.08.05  269000.0    500.0  270000.0  275000.0  268500.0  411854.0\n",
              "2   2021.08.06  271500.0   2500.0  271000.0  273000.0  267500.0  332369.0\n",
              "2   2021.08.06  271500.0   2500.0  271000.0  273000.0  267500.0  332369.0\n",
              "2   2021.08.06  271500.0   2500.0  271000.0  273000.0  267500.0  332369.0\n",
              "1   2021.08.09  266000.0   5500.0  270500.0  271000.0  264500.0  346417.0\n",
              "1   2021.08.09  266000.0   5500.0  270500.0  271000.0  264500.0  346417.0\n",
              "1   2021.08.09  266000.0   5500.0  270500.0  271000.0  264500.0  346417.0"
            ]
          },
          "metadata": {
            "tags": []
          },
          "execution_count": 32
        }
      ]
    },
    {
      "cell_type": "code",
      "metadata": {
        "colab": {
          "base_uri": "https://localhost:8080/"
        },
        "id": "acNpHzbVB-Zq",
        "outputId": "84bb60e5-9fbb-4a87-b1ff-1d37619752c8"
      },
      "source": [
        "len(df)"
      ],
      "execution_count": 33,
      "outputs": [
        {
          "output_type": "execute_result",
          "data": {
            "text/plain": [
              "30"
            ]
          },
          "metadata": {
            "tags": []
          },
          "execution_count": 33
        }
      ]
    },
    {
      "cell_type": "code",
      "metadata": {
        "colab": {
          "base_uri": "https://localhost:8080/",
          "height": 373
        },
        "id": "elOyGkxCCCUh",
        "outputId": "c778fa96-0a8f-44b1-beba-f4710bd4774a"
      },
      "source": [
        "plt.figure(figsize=(15,5))\n",
        "plt.title('Celltrion(close)')\n",
        "plt.xticks(rotation=45) #x축이 겹쳐 보이기 때문에 입력\n",
        "plt.plot(df['날짜'],df['종가'], 'co-') #좌표를 청록색 원으로\n",
        "plt.grid(color='gray', linestyle='--')\n",
        "plt.show()"
      ],
      "execution_count": 35,
      "outputs": [
        {
          "output_type": "display_data",
          "data": {
            "image/png": "[encoded data removed]",
            "text/plain": [
              "<Figure size 1080x360 with 1 Axes>"
            ]
          },
          "metadata": {
            "tags": [],
            "needs_background": "light"
          }
        }
      ]
    },
    {
      "cell_type": "code",
      "metadata": {
        "id": "OgVk_WFTCeCf"
      },
      "source": [
        ""
      ],
      "execution_count": null,
      "outputs": []
    },
    {
      "cell_type": "markdown",
      "metadata": {
        "id": "yi2oethYCwq_"
      },
      "source": [
        "## 신버들 캔들차틀"
      ]
    },
    {
      "cell_type": "code",
      "metadata": {
        "colab": {
          "base_uri": "https://localhost:8080/"
        },
        "id": "qWYUiYejCyz-",
        "outputId": "ab11b8e4-3b65-49aa-faa4-a446592352ae"
      },
      "source": [
        "!pip install --upgrade mplfinance"
      ],
      "execution_count": 36,
      "outputs": [
        {
          "output_type": "stream",
          "text": [
            "Collecting mplfinance\n",
            "  Downloading mplfinance-0.12.7a17-py3-none-any.whl (62 kB)\n",
            "\u001b[?25l\r\u001b[K     |█████▎                          | 10 kB 26.7 MB/s eta 0:00:01\r\u001b[K     |██████████▌                     | 20 kB 15.5 MB/s eta 0:00:01\r\u001b[K     |███████████████▊                | 30 kB 11.0 MB/s eta 0:00:01\r\u001b[K     |█████████████████████           | 40 kB 9.4 MB/s eta 0:00:01\r\u001b[K     |██████████████████████████▎     | 51 kB 5.3 MB/s eta 0:00:01\r\u001b[K     |███████████████████████████████▌| 61 kB 5.4 MB/s eta 0:00:01\r\u001b[K     |████████████████████████████████| 62 kB 618 kB/s \n",
            "\u001b[?25hRequirement already satisfied: pandas in /usr/local/lib/python3.7/dist-packages (from mplfinance) (1.1.5)\n",
            "Requirement already satisfied: matplotlib in /usr/local/lib/python3.7/dist-packages (from mplfinance) (3.2.2)\n",
            "Requirement already satisfied: numpy>=1.11 in /usr/local/lib/python3.7/dist-packages (from matplotlib->mplfinance) (1.19.5)\n",
            "Requirement already satisfied: kiwisolver>=1.0.1 in /usr/local/lib/python3.7/dist-packages (from matplotlib->mplfinance) (1.3.1)\n",
            "Requirement already satisfied: pyparsing!=2.0.4,!=2.1.2,!=2.1.6,>=2.0.1 in /usr/local/lib/python3.7/dist-packages (from matplotlib->mplfinance) (2.4.7)\n",
            "Requirement already satisfied: cycler>=0.10 in /usr/local/lib/python3.7/dist-packages (from matplotlib->mplfinance) (0.10.0)\n",
            "Requirement already satisfied: python-dateutil>=2.1 in /usr/local/lib/python3.7/dist-packages (from matplotlib->mplfinance) (2.8.1)\n",
            "Requirement already satisfied: six in /usr/local/lib/python3.7/dist-packages (from cycler>=0.10->matplotlib->mplfinance) (1.15.0)\n",
            "Requirement already satisfied: pytz>=2017.2 in /usr/local/lib/python3.7/dist-packages (from pandas->mplfinance) (2018.9)\n",
            "Installing collected packages: mplfinance\n",
            "Successfully installed mplfinance-0.12.7a17\n"
          ],
          "name": "stdout"
        }
      ]
    },
    {
      "cell_type": "code",
      "metadata": {
        "id": "OXA0QbBHC32n"
      },
      "source": [
        "import mplfinance as mpf"
      ],
      "execution_count": 37,
      "outputs": []
    },
    {
      "cell_type": "code",
      "metadata": {
        "colab": {
          "base_uri": "https://localhost:8080/",
          "height": 561
        },
        "id": "gi3Sph18C6x7",
        "outputId": "e12022d5-f155-4adf-9fce-80833d9164f3"
      },
      "source": [
        "df=df.rename(columns={'날짜':'Date', '시가':'Open', '고가': 'High', '저가':'Low', '종가':'Close', '거래량':'Volume'})\n",
        "\n",
        "df=df.sort_values(by='Date')\n",
        "\n",
        "df.index=pd.to_datetime(df.Date)\n",
        "\n",
        "df=df[['Open', 'High', 'Low', 'Close', 'Volume']]\n",
        "\n",
        "mpf.plot(df, title='Celltrion candle chart', type='candle')"
      ],
      "execution_count": 38,
      "outputs": [
        {
          "output_type": "display_data",
          "data": {
            "image/png": "[encoded data removed]",
            "text/plain": [
              "<Figure size 800x575 with 2 Axes>"
            ]
          },
          "metadata": {
            "tags": []
          }
        }
      ]
    },
    {
      "cell_type": "code",
      "metadata": {
        "colab": {
          "base_uri": "https://localhost:8080/",
          "height": 561
        },
        "id": "08MRd_vwDixU",
        "outputId": "43c83a8d-59ff-4d2e-b56c-081e08f62e90"
      },
      "source": [
        "mpf.plot(df, title='Celltrion ohcl chart', type='ohlc')"
      ],
      "execution_count": 39,
      "outputs": [
        {
          "output_type": "display_data",
          "data": {
            "image/png": "[encoded data removed]",
            "text/plain": [
              "<Figure size 800x575 with 2 Axes>"
            ]
          },
          "metadata": {
            "tags": []
          }
        }
      ]
    },
    {
      "cell_type": "code",
      "metadata": {
        "id": "Bbf0CC5hDu45"
      },
      "source": [
        ""
      ],
      "execution_count": null,
      "outputs": []
    }
  ]
}